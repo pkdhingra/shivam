{
 "cells": [
  {
   "cell_type": "code",
   "execution_count": 1,
   "id": "c5944e9f",
   "metadata": {},
   "outputs": [
    {
     "name": "stdout",
     "output_type": "stream",
     "text": [
      "Requirement already satisfied: nltk in /Users/prashantkdhingra/opt/anaconda3/lib/python3.8/site-packages (3.7)\r\n",
      "Requirement already satisfied: click in /Users/prashantkdhingra/opt/anaconda3/lib/python3.8/site-packages (from nltk) (8.0.4)\r\n",
      "Requirement already satisfied: tqdm in /Users/prashantkdhingra/opt/anaconda3/lib/python3.8/site-packages (from nltk) (4.64.1)\r\n",
      "Requirement already satisfied: regex>=2021.8.3 in /Users/prashantkdhingra/opt/anaconda3/lib/python3.8/site-packages (from nltk) (2022.7.9)\r\n",
      "Requirement already satisfied: joblib in /Users/prashantkdhingra/opt/anaconda3/lib/python3.8/site-packages (from nltk) (1.1.1)\r\n"
     ]
    }
   ],
   "source": [
    "#!pip install nltk"
   ]
  },
  {
   "cell_type": "code",
   "execution_count": 2,
   "id": "ff746383",
   "metadata": {},
   "outputs": [
    {
     "name": "stderr",
     "output_type": "stream",
     "text": [
      "[nltk_data] Downloading collection 'popular'\n",
      "[nltk_data]    | \n",
      "[nltk_data]    | Downloading package cmudict to\n",
      "[nltk_data]    |     /Users/prashantkdhingra/nltk_data...\n",
      "[nltk_data]    |   Unzipping corpora/cmudict.zip.\n",
      "[nltk_data]    | Downloading package gazetteers to\n",
      "[nltk_data]    |     /Users/prashantkdhingra/nltk_data...\n",
      "[nltk_data]    |   Unzipping corpora/gazetteers.zip.\n",
      "[nltk_data]    | Downloading package genesis to\n",
      "[nltk_data]    |     /Users/prashantkdhingra/nltk_data...\n",
      "[nltk_data]    |   Unzipping corpora/genesis.zip.\n",
      "[nltk_data]    | Downloading package gutenberg to\n",
      "[nltk_data]    |     /Users/prashantkdhingra/nltk_data...\n",
      "[nltk_data]    |   Unzipping corpora/gutenberg.zip.\n",
      "[nltk_data]    | Downloading package inaugural to\n",
      "[nltk_data]    |     /Users/prashantkdhingra/nltk_data...\n",
      "[nltk_data]    |   Unzipping corpora/inaugural.zip.\n",
      "[nltk_data]    | Downloading package movie_reviews to\n",
      "[nltk_data]    |     /Users/prashantkdhingra/nltk_data...\n",
      "[nltk_data]    |   Unzipping corpora/movie_reviews.zip.\n",
      "[nltk_data]    | Downloading package names to\n",
      "[nltk_data]    |     /Users/prashantkdhingra/nltk_data...\n",
      "[nltk_data]    |   Unzipping corpora/names.zip.\n",
      "[nltk_data]    | Downloading package shakespeare to\n",
      "[nltk_data]    |     /Users/prashantkdhingra/nltk_data...\n",
      "[nltk_data]    |   Unzipping corpora/shakespeare.zip.\n",
      "[nltk_data]    | Downloading package stopwords to\n",
      "[nltk_data]    |     /Users/prashantkdhingra/nltk_data...\n",
      "[nltk_data]    |   Unzipping corpora/stopwords.zip.\n",
      "[nltk_data]    | Downloading package treebank to\n",
      "[nltk_data]    |     /Users/prashantkdhingra/nltk_data...\n",
      "[nltk_data]    |   Unzipping corpora/treebank.zip.\n",
      "[nltk_data]    | Downloading package twitter_samples to\n",
      "[nltk_data]    |     /Users/prashantkdhingra/nltk_data...\n",
      "[nltk_data]    |   Unzipping corpora/twitter_samples.zip.\n",
      "[nltk_data]    | Downloading package omw to\n",
      "[nltk_data]    |     /Users/prashantkdhingra/nltk_data...\n",
      "[nltk_data]    | Downloading package omw-1.4 to\n",
      "[nltk_data]    |     /Users/prashantkdhingra/nltk_data...\n",
      "[nltk_data]    | Downloading package wordnet to\n",
      "[nltk_data]    |     /Users/prashantkdhingra/nltk_data...\n",
      "[nltk_data]    |   Package wordnet is already up-to-date!\n",
      "[nltk_data]    | Downloading package wordnet2021 to\n",
      "[nltk_data]    |     /Users/prashantkdhingra/nltk_data...\n",
      "[nltk_data]    | Downloading package wordnet31 to\n",
      "[nltk_data]    |     /Users/prashantkdhingra/nltk_data...\n",
      "[nltk_data]    | Downloading package wordnet_ic to\n",
      "[nltk_data]    |     /Users/prashantkdhingra/nltk_data...\n",
      "[nltk_data]    |   Unzipping corpora/wordnet_ic.zip.\n",
      "[nltk_data]    | Downloading package words to\n",
      "[nltk_data]    |     /Users/prashantkdhingra/nltk_data...\n",
      "[nltk_data]    |   Unzipping corpora/words.zip.\n",
      "[nltk_data]    | Downloading package maxent_ne_chunker to\n",
      "[nltk_data]    |     /Users/prashantkdhingra/nltk_data...\n",
      "[nltk_data]    |   Unzipping chunkers/maxent_ne_chunker.zip.\n",
      "[nltk_data]    | Downloading package punkt to\n",
      "[nltk_data]    |     /Users/prashantkdhingra/nltk_data...\n",
      "[nltk_data]    |   Unzipping tokenizers/punkt.zip.\n",
      "[nltk_data]    | Downloading package snowball_data to\n",
      "[nltk_data]    |     /Users/prashantkdhingra/nltk_data...\n",
      "[nltk_data]    | Downloading package averaged_perceptron_tagger to\n",
      "[nltk_data]    |     /Users/prashantkdhingra/nltk_data...\n",
      "[nltk_data]    |   Package averaged_perceptron_tagger is already up-\n",
      "[nltk_data]    |       to-date!\n",
      "[nltk_data]    | \n",
      "[nltk_data]  Done downloading collection popular\n"
     ]
    },
    {
     "data": {
      "text/plain": [
       "True"
      ]
     },
     "execution_count": 2,
     "metadata": {},
     "output_type": "execute_result"
    }
   ],
   "source": [
    "import nltk\n",
    "nltk.download('popular')"
   ]
  },
  {
   "cell_type": "code",
   "execution_count": 3,
   "id": "9bc1fa1e",
   "metadata": {},
   "outputs": [],
   "source": [
    "import re\n",
    "from nltk.corpus import stopwords\n",
    "from nltk.stem import PorterStemmer\n",
    "ps=PorterStemmer()"
   ]
  },
  {
   "cell_type": "code",
   "execution_count": 4,
   "id": "326ff036",
   "metadata": {},
   "outputs": [],
   "source": [
    "from nltk.stem import WordNetLemmatizer"
   ]
  },
  {
   "cell_type": "code",
   "execution_count": 5,
   "id": "f2bfc310",
   "metadata": {},
   "outputs": [],
   "source": [
    "stop_words=stopwords.words('english')\n",
    "import numpy as np\n",
    "import pandas as pd"
   ]
  },
  {
   "cell_type": "code",
   "execution_count": 6,
   "id": "f342a2c6",
   "metadata": {},
   "outputs": [],
   "source": [
    "from sklearn.feature_extraction.text import TfidfVectorizer"
   ]
  },
  {
   "cell_type": "code",
   "execution_count": 7,
   "id": "30216fbf",
   "metadata": {},
   "outputs": [],
   "source": [
    "def top_n_words(n):\n",
    "    sent=nltk.sent_tokenize(n)\n",
    "    data=pd.DataFrame({'place_info':sent})\n",
    "    rev=[]\n",
    "    for i in range(0,len(data)):\n",
    "        review=re.sub(\"[^a-zA-Z]\",' ',data['place_info'][i])\n",
    "        review=review.lower()\n",
    "        review=review.split()\n",
    "        st=WordNetLemmatizer()\n",
    "        review=[st.lemmatize(h) for h in review]\n",
    "        review=[k for k in review if not k in set(stop_words)]\n",
    "        review=' '.join(review)\n",
    "        rev.append(review)\n",
    "    return rev"
   ]
  },
  {
   "cell_type": "code",
   "execution_count": 8,
   "id": "7285e7e1",
   "metadata": {},
   "outputs": [],
   "source": [
    "def to_csv(h,y):\n",
    "    cv=TfidfVectorizer(ngram_range=(1,1))\n",
    "    corpus1=cv.fit_transform(c)\n",
    "    avg=corpus1.mean(axis=0)\n",
    "    avg=pd.DataFrame(avg,columns=cv.get_feature_names_out())\n",
    "    avg=avg.T\n",
    "    avg=avg.rename(columns={0:'score'})\n",
    "    avg['word']=avg.index\n",
    "    avg=avg.sort_values('score',ascending=False)\n",
    "    data=avg[:h+1]\n",
    "    data.to_csv(y)\n",
    "    print(data)"
   ]
  },
  {
   "cell_type": "code",
   "execution_count": 18,
   "id": "9b2ba225",
   "metadata": {},
   "outputs": [
    {
     "name": "stdout",
     "output_type": "stream",
     "text": [
      " 1 10places.txt\n",
      "name and ext are  10places .txt\n",
      " 2 10places.csv\n",
      "shivam0\n",
      " file path /Users/prashantkdhingra/kreate/shivam/data/10places.txt\n",
      "10places.csv\n",
      "                score         word\n",
      "br           0.980849           br\n",
      "top          0.091007          top\n",
      "destination  0.091007  destination\n",
      "dubai        0.040447        dubai\n",
      "new          0.030336          new\n",
      "park         0.030336         park\n"
     ]
    }
   ],
   "source": [
    "# Import the required libraries\n",
    "import os\n",
    "\n",
    "# Define the location of the directory\n",
    "#path =r'C:\\Users\\SHIVAM\\Desktop\\Skill sequel\\python\\File Read'\n",
    "\n",
    "path =r'/Users/prashantkdhingra/kreate/shivam/data'\n",
    "subpath =r'/Users/prashantkdhingra/kreate/shivam/data'\n",
    "\n",
    "# Change the directory\n",
    "os.chdir(path)\n",
    "\n",
    "def read_files(file_path):\n",
    "   with open(file_path, 'r') as file:\n",
    "      return file.read()\n",
    "\n",
    "# Iterate over all the files in the directory\n",
    "for i,file in enumerate(os.listdir()):\n",
    "    print (\" 1 \" + file)\n",
    "    if file.endswith('.txt'):\n",
    "        # Create the filepath of particular file\n",
    "        \n",
    "        filename, file_extension = os.path.splitext(file)\n",
    "        print (\"name and ext are \", filename, file_extension)\n",
    "        \n",
    "        \n",
    "        '''\n",
    "        head_tail = os.path.split(file)\n",
    "        tail = head_tail[1]\n",
    "        print(\"Head of '% s:'\" % path, head_tail[0])\n",
    "        print(\"Tail of '% s:'\" % path, head_tail[1], \"\\n\")\n",
    "        \n",
    "        head_tail2 = os.path.split(tail)\n",
    "        print(\"Head2 of '% s:'\" % tail, head_tail2[0])\n",
    "        print(\"Tail2 of '% s:'\" % tail, head_tail2[1], \"\\n\")\n",
    "        \n",
    "        file_path =f\"{path}/{file}\"\n",
    "        file_path_p = os.path.splitext(os.path.basename(file_path)[0])\n",
    "        csv_path=file_path[0]+\".csv\"\n",
    "        '''\n",
    "        \n",
    "        csv_path = filename + \".csv\"\n",
    "        \n",
    "        print (\" 2 \" + csv_path)\n",
    "        b=read_files(file_path)\n",
    "        print('shivam'+str(i))\n",
    "        c=top_n_words(b)\n",
    "        print(\" file path \" + file_path)\n",
    "        print(csv_path)\n",
    "        to_csv(5,csv_path)\n"
   ]
  },
  {
   "cell_type": "code",
   "execution_count": null,
   "id": "a26b0d15",
   "metadata": {},
   "outputs": [],
   "source": []
  }
 ],
 "metadata": {
  "kernelspec": {
   "display_name": "Python 3 (ipykernel)",
   "language": "python",
   "name": "python3"
  },
  "language_info": {
   "codemirror_mode": {
    "name": "ipython",
    "version": 3
   },
   "file_extension": ".py",
   "mimetype": "text/x-python",
   "name": "python",
   "nbconvert_exporter": "python",
   "pygments_lexer": "ipython3",
   "version": "3.8.8"
  }
 },
 "nbformat": 4,
 "nbformat_minor": 5
}
