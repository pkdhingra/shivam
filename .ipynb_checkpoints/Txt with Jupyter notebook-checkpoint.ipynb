{
 "cells": [
  {
   "cell_type": "code",
   "execution_count": 1,
   "id": "c5944e9f",
   "metadata": {},
   "outputs": [],
   "source": [
    "#!pip install nltk"
   ]
  },
  {
   "cell_type": "code",
   "execution_count": 2,
   "id": "ff746383",
   "metadata": {},
   "outputs": [
    {
     "name": "stderr",
     "output_type": "stream",
     "text": [
      "[nltk_data] Downloading collection 'popular'\n",
      "[nltk_data]    | \n",
      "[nltk_data]    | Downloading package cmudict to\n",
      "[nltk_data]    |     C:\\Users\\SHIVAM\\AppData\\Roaming\\nltk_data...\n",
      "[nltk_data]    |   Package cmudict is already up-to-date!\n",
      "[nltk_data]    | Downloading package gazetteers to\n",
      "[nltk_data]    |     C:\\Users\\SHIVAM\\AppData\\Roaming\\nltk_data...\n",
      "[nltk_data]    |   Package gazetteers is already up-to-date!\n",
      "[nltk_data]    | Downloading package genesis to\n",
      "[nltk_data]    |     C:\\Users\\SHIVAM\\AppData\\Roaming\\nltk_data...\n",
      "[nltk_data]    |   Package genesis is already up-to-date!\n",
      "[nltk_data]    | Downloading package gutenberg to\n",
      "[nltk_data]    |     C:\\Users\\SHIVAM\\AppData\\Roaming\\nltk_data...\n",
      "[nltk_data]    |   Package gutenberg is already up-to-date!\n",
      "[nltk_data]    | Downloading package inaugural to\n",
      "[nltk_data]    |     C:\\Users\\SHIVAM\\AppData\\Roaming\\nltk_data...\n",
      "[nltk_data]    |   Package inaugural is already up-to-date!\n",
      "[nltk_data]    | Downloading package movie_reviews to\n",
      "[nltk_data]    |     C:\\Users\\SHIVAM\\AppData\\Roaming\\nltk_data...\n",
      "[nltk_data]    |   Package movie_reviews is already up-to-date!\n",
      "[nltk_data]    | Downloading package names to\n",
      "[nltk_data]    |     C:\\Users\\SHIVAM\\AppData\\Roaming\\nltk_data...\n",
      "[nltk_data]    |   Package names is already up-to-date!\n",
      "[nltk_data]    | Downloading package shakespeare to\n",
      "[nltk_data]    |     C:\\Users\\SHIVAM\\AppData\\Roaming\\nltk_data...\n",
      "[nltk_data]    |   Package shakespeare is already up-to-date!\n",
      "[nltk_data]    | Downloading package stopwords to\n",
      "[nltk_data]    |     C:\\Users\\SHIVAM\\AppData\\Roaming\\nltk_data...\n",
      "[nltk_data]    |   Package stopwords is already up-to-date!\n",
      "[nltk_data]    | Downloading package treebank to\n",
      "[nltk_data]    |     C:\\Users\\SHIVAM\\AppData\\Roaming\\nltk_data...\n",
      "[nltk_data]    |   Package treebank is already up-to-date!\n",
      "[nltk_data]    | Downloading package twitter_samples to\n",
      "[nltk_data]    |     C:\\Users\\SHIVAM\\AppData\\Roaming\\nltk_data...\n",
      "[nltk_data]    |   Package twitter_samples is already up-to-date!\n",
      "[nltk_data]    | Downloading package omw to\n",
      "[nltk_data]    |     C:\\Users\\SHIVAM\\AppData\\Roaming\\nltk_data...\n",
      "[nltk_data]    |   Package omw is already up-to-date!\n",
      "[nltk_data]    | Downloading package omw-1.4 to\n",
      "[nltk_data]    |     C:\\Users\\SHIVAM\\AppData\\Roaming\\nltk_data...\n",
      "[nltk_data]    |   Package omw-1.4 is already up-to-date!\n",
      "[nltk_data]    | Downloading package wordnet to\n",
      "[nltk_data]    |     C:\\Users\\SHIVAM\\AppData\\Roaming\\nltk_data...\n",
      "[nltk_data]    |   Package wordnet is already up-to-date!\n",
      "[nltk_data]    | Downloading package wordnet2021 to\n",
      "[nltk_data]    |     C:\\Users\\SHIVAM\\AppData\\Roaming\\nltk_data...\n",
      "[nltk_data]    |   Package wordnet2021 is already up-to-date!\n",
      "[nltk_data]    | Downloading package wordnet31 to\n",
      "[nltk_data]    |     C:\\Users\\SHIVAM\\AppData\\Roaming\\nltk_data...\n",
      "[nltk_data]    |   Package wordnet31 is already up-to-date!\n",
      "[nltk_data]    | Downloading package wordnet_ic to\n",
      "[nltk_data]    |     C:\\Users\\SHIVAM\\AppData\\Roaming\\nltk_data...\n",
      "[nltk_data]    |   Package wordnet_ic is already up-to-date!\n",
      "[nltk_data]    | Downloading package words to\n",
      "[nltk_data]    |     C:\\Users\\SHIVAM\\AppData\\Roaming\\nltk_data...\n",
      "[nltk_data]    |   Package words is already up-to-date!\n",
      "[nltk_data]    | Downloading package maxent_ne_chunker to\n",
      "[nltk_data]    |     C:\\Users\\SHIVAM\\AppData\\Roaming\\nltk_data...\n",
      "[nltk_data]    |   Package maxent_ne_chunker is already up-to-date!\n",
      "[nltk_data]    | Downloading package punkt to\n",
      "[nltk_data]    |     C:\\Users\\SHIVAM\\AppData\\Roaming\\nltk_data...\n",
      "[nltk_data]    |   Package punkt is already up-to-date!\n",
      "[nltk_data]    | Downloading package snowball_data to\n",
      "[nltk_data]    |     C:\\Users\\SHIVAM\\AppData\\Roaming\\nltk_data...\n",
      "[nltk_data]    |   Package snowball_data is already up-to-date!\n",
      "[nltk_data]    | Downloading package averaged_perceptron_tagger to\n",
      "[nltk_data]    |     C:\\Users\\SHIVAM\\AppData\\Roaming\\nltk_data...\n",
      "[nltk_data]    |   Package averaged_perceptron_tagger is already up-\n",
      "[nltk_data]    |       to-date!\n",
      "[nltk_data]    | \n",
      "[nltk_data]  Done downloading collection popular\n"
     ]
    },
    {
     "data": {
      "text/plain": [
       "True"
      ]
     },
     "execution_count": 2,
     "metadata": {},
     "output_type": "execute_result"
    }
   ],
   "source": [
    "import nltk\n",
    "nltk.download('popular')"
   ]
  },
  {
   "cell_type": "code",
   "execution_count": 3,
   "id": "9bc1fa1e",
   "metadata": {},
   "outputs": [],
   "source": [
    "import re\n",
    "from nltk.corpus import stopwords\n",
    "from nltk.stem import PorterStemmer\n",
    "ps=PorterStemmer()"
   ]
  },
  {
   "cell_type": "code",
   "execution_count": 4,
   "id": "326ff036",
   "metadata": {},
   "outputs": [],
   "source": [
    "from nltk.stem import WordNetLemmatizer"
   ]
  },
  {
   "cell_type": "code",
   "execution_count": 5,
   "id": "f2bfc310",
   "metadata": {},
   "outputs": [],
   "source": [
    "stop_words=stopwords.words('english')\n",
    "import numpy as np\n",
    "import pandas as pd"
   ]
  },
  {
   "cell_type": "code",
   "execution_count": 6,
   "id": "f342a2c6",
   "metadata": {},
   "outputs": [],
   "source": [
    "from sklearn.feature_extraction.text import TfidfVectorizer"
   ]
  },
  {
   "cell_type": "code",
   "execution_count": 7,
   "id": "30216fbf",
   "metadata": {},
   "outputs": [],
   "source": [
    "def top_n_words(n):\n",
    "    sent=nltk.sent_tokenize(n)\n",
    "    data=pd.DataFrame({'place_info':sent})\n",
    "    rev=[]\n",
    "    for i in range(0,len(data)):\n",
    "        review=re.sub(\"[^a-zA-Z]\",' ',data['place_info'][i])\n",
    "        review=review.lower()\n",
    "        review=review.split()\n",
    "        st=WordNetLemmatizer()\n",
    "        review=[st.lemmatize(h) for h in review]\n",
    "        review=[k for k in review if not k in set(stop_words)]\n",
    "        review=' '.join(review)\n",
    "        rev.append(review)\n",
    "    return rev"
   ]
  },
  {
   "cell_type": "code",
   "execution_count": 8,
   "id": "7285e7e1",
   "metadata": {},
   "outputs": [],
   "source": [
    "def write_csv(h,y):\n",
    "    cv=TfidfVectorizer(ngram_range=(1,1))\n",
    "    corpus1=cv.fit_transform(c)\n",
    "    avg=corpus1.mean(axis=0)\n",
    "    avg=pd.DataFrame(avg,columns=cv.get_feature_names_out())\n",
    "    avg=avg.T\n",
    "    avg=avg.rename(columns={0:'score'})\n",
    "    avg['word']=avg.index\n",
    "    avg=avg.sort_values('score',ascending=False)\n",
    "    avg=avg.T\n",
    "    avg.drop(['score'],axis=0,inplace=True)\n",
    "    data=avg.iloc[:,:h+1]\n",
    "    data.to_csv(y,header=False,index=False)\n",
    "    print(data)"
   ]
  },
  {
   "cell_type": "code",
   "execution_count": 9,
   "id": "3fb4de38",
   "metadata": {},
   "outputs": [],
   "source": [
    "def write_keyword(h,y):\n",
    "    cv=TfidfVectorizer(ngram_range=(1,1))\n",
    "    corpus1=cv.fit_transform(c)\n",
    "    avg=corpus1.mean(axis=0)\n",
    "    avg=pd.DataFrame(avg,columns=cv.get_feature_names_out())\n",
    "    avg=avg.T\n",
    "    avg=avg.rename(columns={0:'score'})\n",
    "    avg['word']=avg.index\n",
    "    avg=avg.sort_values('score',ascending=False)\n",
    "    avg=avg.T\n",
    "    avg.drop(['score'],axis=0,inplace=True)\n",
    "    data=avg.iloc[:,:h+1]\n",
    "    data.to_csv(y,header=False,index=False)\n",
    "    print(data)"
   ]
  },
  {
   "cell_type": "code",
   "execution_count": 10,
   "id": "9b2ba225",
   "metadata": {},
   "outputs": [
    {
     "name": "stdout",
     "output_type": "stream",
     "text": [
      " 1 Best-places-in-east-canada11.csv\n",
      " 1 Best-places-in-east-canada11.keyword\n",
      " 1 Best-places-in-east-canada11.txt\n",
      "name and ext are  Best-places-in-east-canada11 .txt\n",
      "      national  world  site  canada  park  located  historic  unesco  \\\n",
      "word  national  world  site  canada  park  located  historic  unesco   \n",
      "\n",
      "      heritage  quebec  city  \n",
      "word  heritage  quebec  city  \n",
      "      national  world  site  canada  park  located  historic  unesco  \\\n",
      "word  national  world  site  canada  park  located  historic  unesco   \n",
      "\n",
      "      heritage  quebec  city  \n",
      "word  heritage  quebec  city  \n",
      " 1 China11.csv\n",
      " 1 China11.keyword\n",
      " 1 China11.txt\n",
      "name and ext are  China11 .txt\n",
      "      mountain  largest  ha  lake  place  china  tiawan  province  river  \\\n",
      "word  mountain  largest  ha  lake  place  china  tiawan  province  river   \n",
      "\n",
      "      known  natural  \n",
      "word  known  natural  \n",
      "      mountain  largest  ha  lake  place  china  tiawan  province  river  \\\n",
      "word  mountain  largest  ha  lake  place  china  tiawan  province  river   \n",
      "\n",
      "      known  natural  \n",
      "word  known  natural  \n"
     ]
    }
   ],
   "source": [
    "# Import the required libraries\n",
    "import os\n",
    "\n",
    "# Define the location of the directory\n",
    "path =r\"C:\\Users\\SHIVAM\\Desktop\\Dataknobs\\travel_file\"\n",
    "\n",
    "# path =r'/Users/prashantkdhingra/kreate/shivam/data'\n",
    "# subpath =r'/Users/prashantkdhingra/kreate/shivam/data'\n",
    "\n",
    "# Change the directory\n",
    "os.chdir(path)\n",
    "\n",
    "def read_files(file_path):\n",
    "   with open(file_path, 'r') as file:\n",
    "      return file.read()\n",
    "\n",
    "# Iterate over all the files in the directory\n",
    "for i,file in enumerate(os.listdir()):\n",
    "    print (\" 1 \" + file)\n",
    "    if file.endswith('.txt'):\n",
    "        # Create the filepath of particular file\n",
    "        \n",
    "        filename, file_extension = os.path.splitext(file)\n",
    "        print (\"name and ext are \", filename, file_extension)\n",
    "        \n",
    "        \n",
    "        '''\n",
    "        head_tail = os.path.split(file)\n",
    "        tail = head_tail[1]\n",
    "        print(\"Head of '% s:'\" % path, head_tail[0])\n",
    "        print(\"Tail of '% s:'\" % path, head_tail[1], \"\\n\")\n",
    "        \n",
    "        head_tail2 = os.path.split(tail)\n",
    "        print(\"Head2 of '% s:'\" % tail, head_tail2[0])\n",
    "        print(\"Tail2 of '% s:'\" % tail, head_tail2[1], \"\\n\")\n",
    "        '''\n",
    "        \n",
    "        file_path =f\"{path}/{file}\"\n",
    "        file_path_p = os.path.splitext(os.path.basename(file_path)[0])\n",
    "        \n",
    "        \n",
    "        b=read_files(file_path)\n",
    "        c=top_n_words(b)\n",
    "        \n",
    "        \n",
    "        \n",
    "        csv_path=filename+\".csv\"\n",
    "        write_csv(10,csv_path)\n",
    "        keyword_path = filename + \".keyword\"\n",
    "        write_keyword(10,keyword_path)"
   ]
  },
  {
   "cell_type": "code",
   "execution_count": null,
   "id": "a26b0d15",
   "metadata": {},
   "outputs": [],
   "source": []
  }
 ],
 "metadata": {
  "kernelspec": {
   "display_name": "Python 3 (ipykernel)",
   "language": "python",
   "name": "python3"
  },
  "language_info": {
   "codemirror_mode": {
    "name": "ipython",
    "version": 3
   },
   "file_extension": ".py",
   "mimetype": "text/x-python",
   "name": "python",
   "nbconvert_exporter": "python",
   "pygments_lexer": "ipython3",
   "version": "3.9.12"
  }
 },
 "nbformat": 4,
 "nbformat_minor": 5
}
